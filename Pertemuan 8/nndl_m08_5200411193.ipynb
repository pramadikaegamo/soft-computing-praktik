{
 "cells": [
  {
   "cell_type": "markdown",
   "metadata": {},
   "source": [
    "NPM: 5200411193\n",
    "_____________\n",
    "Nama: Pramadika Egamo"
   ]
  },
  {
   "cell_type": "code",
   "execution_count": 4,
   "metadata": {},
   "outputs": [],
   "source": [
    "import pandas as pd\n",
    "import numpy as np\n",
    "import random\n",
    "import math\n",
    "import matplotlib.pyplot as plt"
   ]
  },
  {
   "cell_type": "code",
   "execution_count": 5,
   "metadata": {},
   "outputs": [
    {
     "ename": "ModuleNotFoundError",
     "evalue": "No module named 'google'",
     "output_type": "error",
     "traceback": [
      "\u001b[1;31m---------------------------------------------------------------------------\u001b[0m",
      "\u001b[1;31mModuleNotFoundError\u001b[0m                       Traceback (most recent call last)",
      "Cell \u001b[1;32mIn[5], line 3\u001b[0m\n\u001b[0;32m      1\u001b[0m \u001b[39mimport\u001b[39;00m \u001b[39mio\u001b[39;00m\n\u001b[1;32m----> 3\u001b[0m \u001b[39mfrom\u001b[39;00m \u001b[39mgoogle\u001b[39;00m\u001b[39m.\u001b[39;00m\u001b[39mcolab\u001b[39;00m \u001b[39mimport\u001b[39;00m files\n\u001b[0;32m      4\u001b[0m filenya \u001b[39m=\u001b[39m files\u001b[39m.\u001b[39mupload()\n\u001b[0;32m      6\u001b[0m df \u001b[39m=\u001b[39m pd\u001b[39m.\u001b[39mread_csv(io\u001b[39m.\u001b[39mStringIO(filenya[\u001b[39m'\u001b[39m\u001b[39memailspam.csv\u001b[39m\u001b[39m'\u001b[39m]\u001b[39m.\u001b[39mdecode(\u001b[39m'\u001b[39m\u001b[39mutf-8\u001b[39m\u001b[39m'\u001b[39m)))\n",
      "\u001b[1;31mModuleNotFoundError\u001b[0m: No module named 'google'"
     ]
    }
   ],
   "source": [
    "import io\n",
    "\n",
    "# from google.colab import files\n",
    "# filenya = files.upload()\n",
    "\n",
    "df = pd.read_csv(io.StringIO(filenya['emailspam.csv'].decode('utf-8')))\n",
    "print(df)"
   ]
  },
  {
   "cell_type": "code",
   "execution_count": 6,
   "metadata": {},
   "outputs": [
    {
     "ename": "NameError",
     "evalue": "name 'df' is not defined",
     "output_type": "error",
     "traceback": [
      "\u001b[1;31m---------------------------------------------------------------------------\u001b[0m",
      "\u001b[1;31mNameError\u001b[0m                                 Traceback (most recent call last)",
      "Cell \u001b[1;32mIn[6], line 3\u001b[0m\n\u001b[0;32m      1\u001b[0m \u001b[39m#baca data csv\u001b[39;00m\n\u001b[0;32m      2\u001b[0m \u001b[39m# csv_data = pd.read_csv(\"emailspam.csv\", deliminter=';', header=0)\u001b[39;00m\n\u001b[1;32m----> 3\u001b[0m data \u001b[39m=\u001b[39m np\u001b[39m.\u001b[39marray(df) \u001b[39m#konversi data csv menjadi array\u001b[39;00m\n\u001b[0;32m      4\u001b[0m data \u001b[39m=\u001b[39m data\u001b[39m.\u001b[39mastype(\u001b[39mfloat\u001b[39m) \u001b[39m#konversi data menjadi tipe float\u001b[39;00m\n\u001b[0;32m      5\u001b[0m n_data \u001b[39m=\u001b[39m \u001b[39mlen\u001b[39m(data[:,\u001b[39m0\u001b[39m]) \u001b[39m#menghitung banyaknya data\u001b[39;00m\n",
      "\u001b[1;31mNameError\u001b[0m: name 'df' is not defined"
     ]
    }
   ],
   "source": [
    "#baca data csv\n",
    "# csv_data = pd.read_csv(\"emailspam.csv\", deliminter=';', header=0)\n",
    "data = np.array(df) #konversi data csv menjadi array\n",
    "data = data.astype(float) #konversi data menjadi tipe float\n",
    "n_data = len(data[:,0]) #menghitung banyaknya data\n",
    "\n",
    "print('jumlah data: ', n_data)\n",
    "\n",
    "#membaca jumlah feature\n",
    "n_feature = len(data[0,:]) - 1\n",
    "\n",
    "print('jumlah feature: ', n_feature)"
   ]
  },
  {
   "cell_type": "code",
   "execution_count": null,
   "metadata": {},
   "outputs": [],
   "source": [
    "#membagi data: data latih dan uji\n",
    "rasi_data_latih = 0.7\n",
    "n_data_latih = int(n_data * rasi_data_latih)\n",
    "data_latih = data[:n_data_latih,:]\n",
    "data_uji = data[n_data_latih:,:]\n",
    "n_data_uji = len(data_uji[:,0])\n",
    "\n",
    "print('jumlah data latih', n_data_latih)\n",
    "print('jumlah data uji', n_data_uji)\n",
    "\n",
    "np.seterr(invalid='ignore')\n",
    "\n",
    "#normalisasi data latih dalam rentang [0.1, 0.9]\n",
    "for i in range(1, n_feature + 1):\n",
    "    data_latih[:,i] = 0.1 + ((data_latih[:,i] - min(data_latih[:,i]))/(max(data_latih[:,i])-min(data_latih[:,i]))) * 0.8\n",
    "\n",
    "print(data_latih)\n",
    "\n",
    "#normalisasi data uji dalam rentang [0.1, 0.9]\n",
    "for i in range(1, n_feature + 1):\n",
    "    data_uji[:,i] = 0.1 + ((data_uji[:,i] - min(data_uji[:,i]))/(max(data_uji[:,i])-min(data_uji[:,i]))) * 0.8\n"
   ]
  },
  {
   "cell_type": "code",
   "execution_count": null,
   "metadata": {},
   "outputs": [],
   "source": [
    "#inisialisasi parameter jst\n",
    "n_input = n_feature # jumlah neuron pada input layer\n",
    "n_hidden = 1 #jumlah neuron pada hidden layer\n",
    "n_output = 1 #jumlah neuron pada output layer\n",
    "n_epoch = 1 #jumlah epoch/ iterasi maksimal\n",
    "alfa = 0 #learning rate\n",
    "\n",
    "np.random.seed(seed=716)\n",
    "\n",
    "#insialisai bobot MLP dalam rentang [-1, 1]\n",
    "w = np.random.rand(n_hidden, n_input) * 2 - 1\n",
    "b1 = np.random.rand(n_hidden) * 2 - 1\n",
    "v = np.random.rand(n_output, n_hidden) #* 2 - 1\n",
    "b2 = np.random.rand(n_output) * 2 - 1"
   ]
  },
  {
   "cell_type": "code",
   "execution_count": null,
   "metadata": {},
   "outputs": [],
   "source": [
    "#learning\n",
    "itr = 0\n",
    "MSE = np.zeros(n_epoch + 1)\n",
    "while(itr <= n_epoch):\n",
    "    print(\"Epoch ke-\" + str(itr))\n",
    "\n",
    "    for idx_data in range(0, n_data_latih):\n",
    "        label = data[idx_data,n_feature]\n",
    "        feature = data_latih[idx_data,0:n_feature]\n",
    "\n",
    "        #hitung nilai pada hidden layer\n",
    "        z = np.zeros(n_hidden)\n",
    "        for i in range(0,n_hidden):\n",
    "            net = np.sum(feature * w[i] + b1[i])\n",
    "            z[i] = 1 / (1 + math.exp(-net))\n",
    "\n",
    "        #hitung nilai pada output layer\n",
    "        y = np.zeros(n_output)\n",
    "        f_output = np.zeros(n_output)\n",
    "        for i in range(0, n_output):\n",
    "            net = np.sum(z * v[i]) + b2[i]\n",
    "            y[i] = 1/(1 + math.exp(-net))\n",
    "\n",
    "        # hitung error pada output layer\n",
    "        error = label - y\n",
    "\n",
    "        # hitung jumlah error\n",
    "        sum_squared_error = sum(error**2)\n",
    "\n",
    "        # hitung faktor koreksi pada output layer\n",
    "        for i in range(0, n_output):\n",
    "            f_output[i] = error * y[i] * (1 - y[i])\n",
    "\n",
    "        # hitung perbaikan bobot antara output dan hidden layer\n",
    "        delta_v = np.zeros(shape=(n_output, n_hidden))\n",
    "        for i in range(0, n_output):\n",
    "            delta_v[i, :] = alfa * f_output[i] * z\n",
    "\n",
    "        # hitung perbaikan bobot BIAS (b2) antara output dan hidden layer\n",
    "        delta_b2 = np.zeros(n_output)\n",
    "        for i in range(0, n_output):\n",
    "            delta_b2[i] = alfa * f_output[i] * 1\n",
    "\n",
    "        # hitung faktor koreksi pada hidden layer\n",
    "        f_hidden = np.zeros(n_hidden)\n",
    "        for i in range(0, n_hidden):\n",
    "            # langkah 1 - hitung f_hidden_net\n",
    "            f_hidden_net = sum(f_output * v[:, i])\n",
    "\n",
    "            # langkah 2 - hitung f_hidden\n",
    "            f_hidden[i] = f_hidden_net * z[i] * (1 - z[i])\n",
    "\n",
    "        # hitung perbaikan bobot antara hidden dan input layer\n",
    "        delta_w = np.zeros(shape=(n_hidden, n_input))\n",
    "        for i in range(n_hidden):\n",
    "            delta_w = alfa * f_hidden[i] * feature\n",
    "\n",
    "        # hitung perbaikan bobot antara hidden dan input layer\n",
    "        delta_b1 = np.zeros(n_hidden)\n",
    "        for i in range(n_hidden):\n",
    "            dalta_b1 = alfa * f_hidden[i] * 1\n",
    "\n",
    "        # update semua bobot\n",
    "        w = w + delta_w\n",
    "        b1 = b1 + delta_b1\n",
    "        v = v + delta_v\n",
    "        b2 = b2 + delta_b2\n",
    "    # end for\n",
    "\n",
    "    # hitung Mean Squared Error (MSE)\n",
    "    MSE[itr] = sum_squared_error / n_data_latih\n",
    "    itr += 1\n",
    "# end while\n"
   ]
  },
  {
   "cell_type": "code",
   "execution_count": null,
   "metadata": {},
   "outputs": [],
   "source": [
    "print(\"--------------RESULT--------------\")\n",
    "print(\"Mean Squared Error: \" + str(MSE[n_epoch]))\n",
    "\n",
    "# print grafik MSE hasil training\n",
    "plt.title(\"Mean Sqared Error hasil training\")\n",
    "plt.plot(MSE)\n",
    "plt.autoscale(enalble=True, axis='both', tight=None)\n",
    "plt.show(block=False)\n"
   ]
  }
 ],
 "metadata": {
  "kernelspec": {
   "display_name": "Python 3.10.4 64-bit",
   "language": "python",
   "name": "python3"
  },
  "language_info": {
   "codemirror_mode": {
    "name": "ipython",
    "version": 3
   },
   "file_extension": ".py",
   "mimetype": "text/x-python",
   "name": "python",
   "nbconvert_exporter": "python",
   "pygments_lexer": "ipython3",
   "version": "3.10.4"
  },
  "orig_nbformat": 4,
  "vscode": {
   "interpreter": {
    "hash": "369f2c481f4da34e4445cda3fffd2e751bd1c4d706f27375911949ba6bb62e1c"
   }
  }
 },
 "nbformat": 4,
 "nbformat_minor": 2
}
